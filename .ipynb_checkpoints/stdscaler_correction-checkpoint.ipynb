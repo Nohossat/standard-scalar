{
 "cells": [
  {
   "cell_type": "markdown",
   "metadata": {},
   "source": [
    "# Standard scaler\n",
    "\n",
    "Créer une class StandardScaler2 avec comme méthode fit, transform, fit_transform et en attribut un dicitonnaire params_ qui contient la moyenne et l'écart_type de vos données. Les données en entrées sont uniquement de array numpy (pas des dataframes)\n",
    "me dire que vous avez terminé avant de faire le bonus.\n",
    "en bonus :\n",
    "- mettre une erreur si on essaye de transform sans avoir de fit\n",
    "- permettre au code de fonctionner, peut importe si l'entrée est une numpy array ou une dataframe"
   ]
  },
  {
   "cell_type": "code",
   "execution_count": 94,
   "metadata": {},
   "outputs": [],
   "source": [
    "import pandas as pd\n",
    "import numpy as np\n",
    "\n",
    "class StdScaler:\n",
    "    def __init__(self):\n",
    "        # initiate the class with means and standard deviation lists\n",
    "        self.params_ = {\n",
    "            'means' : None,\n",
    "            'std_dev': None\n",
    "        }\n",
    "        \n",
    "    def get_values(self, data):\n",
    "        # transform data if it is a dataframe\n",
    "        data_values = data\n",
    "        \n",
    "        if isinstance(data, pd.core.frame.DataFrame):\n",
    "            data_values = data.values\n",
    "            \n",
    "        return data_values\n",
    "        \n",
    "    def fit(self, data):\n",
    "        # get means and standard deviation per feature\n",
    "        data_values = self.get_values(data)\n",
    "            \n",
    "        self.params_['means'] = np.mean(data_values, 0)\n",
    "        self.params_['std_dev'] = np.std(data_values, 0)\n",
    "        \n",
    "    def transform(self, data):\n",
    "        # if means list empty => fit method not called\n",
    "        if self.params_['means'] is None :\n",
    "            raise Exception('You must call the fit method before transforming the data')\n",
    "            \n",
    "        data_values = self.get_values(data)\n",
    "        # get zscore for each value\n",
    "        return (data_values - self.params_['means']) /  self.params_['std_dev']\n",
    "    \n",
    "    def fit_transform(self, data):\n",
    "        # call methods necessary for standardisation\n",
    "        self.fit(data)\n",
    "        return self.transform(data)\n",
    "    \n",
    "    @property\n",
    "    def mean_(self):\n",
    "        return self.params_['means']\n",
    "    \n",
    "    @property\n",
    "    def var_(self):\n",
    "        return self.params_['std_dev']"
   ]
  },
  {
   "cell_type": "code",
   "execution_count": 95,
   "metadata": {},
   "outputs": [],
   "source": [
    "X = np.array([[1, 20, 6], [4, 35, 10], [7, 50, 18]])\n",
    "X_pd = pd.DataFrame(X)\n",
    "\n",
    "scaler = StdScaler()"
   ]
  },
  {
   "cell_type": "code",
   "execution_count": 96,
   "metadata": {},
   "outputs": [
    {
     "data": {
      "text/plain": [
       "array([ 2.44948974, 12.24744871,  4.98887652])"
      ]
     },
     "execution_count": 96,
     "metadata": {},
     "output_type": "execute_result"
    }
   ],
   "source": [
    "# standardize a numpy array\n",
    "scaler.fit_transform(X)\n",
    "scaler.mean_\n",
    "scaler.var_"
   ]
  },
  {
   "cell_type": "code",
   "execution_count": 97,
   "metadata": {},
   "outputs": [
    {
     "data": {
      "text/plain": [
       "array([[-1.22474487, -1.22474487, -1.06904497],\n",
       "       [ 0.        ,  0.        , -0.26726124],\n",
       "       [ 1.22474487,  1.22474487,  1.33630621]])"
      ]
     },
     "execution_count": 97,
     "metadata": {},
     "output_type": "execute_result"
    }
   ],
   "source": [
    "# standardize a pandas Dataframe\n",
    "scaler.fit(X_pd)\n",
    "scaler.transform(X_pd)"
   ]
  },
  {
   "cell_type": "code",
   "execution_count": 98,
   "metadata": {},
   "outputs": [
    {
     "ename": "Exception",
     "evalue": "You must call the fit method before transforming the data",
     "output_type": "error",
     "traceback": [
      "\u001b[0;31m---------------------------------------------------------------------------\u001b[0m",
      "\u001b[0;31mException\u001b[0m                                 Traceback (most recent call last)",
      "\u001b[0;32m<ipython-input-98-0bc112ba67d3>\u001b[0m in \u001b[0;36m<module>\u001b[0;34m\u001b[0m\n\u001b[1;32m      1\u001b[0m \u001b[0;31m# produce exception\u001b[0m\u001b[0;34m\u001b[0m\u001b[0;34m\u001b[0m\u001b[0;34m\u001b[0m\u001b[0m\n\u001b[1;32m      2\u001b[0m \u001b[0mscaler2\u001b[0m \u001b[0;34m=\u001b[0m \u001b[0mStdScaler\u001b[0m\u001b[0;34m(\u001b[0m\u001b[0;34m)\u001b[0m\u001b[0;34m\u001b[0m\u001b[0;34m\u001b[0m\u001b[0m\n\u001b[0;32m----> 3\u001b[0;31m \u001b[0mscaler2\u001b[0m\u001b[0;34m.\u001b[0m\u001b[0mtransform\u001b[0m\u001b[0;34m(\u001b[0m\u001b[0mX\u001b[0m\u001b[0;34m)\u001b[0m\u001b[0;34m\u001b[0m\u001b[0;34m\u001b[0m\u001b[0m\n\u001b[0m",
      "\u001b[0;32m<ipython-input-94-c931e4a626a8>\u001b[0m in \u001b[0;36mtransform\u001b[0;34m(self, data)\u001b[0m\n\u001b[1;32m     29\u001b[0m         \u001b[0;31m# if means list empty, fit method not called\u001b[0m\u001b[0;34m\u001b[0m\u001b[0;34m\u001b[0m\u001b[0;34m\u001b[0m\u001b[0m\n\u001b[1;32m     30\u001b[0m         \u001b[0;32mif\u001b[0m \u001b[0mself\u001b[0m\u001b[0;34m.\u001b[0m\u001b[0mparams_\u001b[0m\u001b[0;34m[\u001b[0m\u001b[0;34m'means'\u001b[0m\u001b[0;34m]\u001b[0m \u001b[0;32mis\u001b[0m \u001b[0;32mNone\u001b[0m \u001b[0;34m:\u001b[0m\u001b[0;34m\u001b[0m\u001b[0;34m\u001b[0m\u001b[0m\n\u001b[0;32m---> 31\u001b[0;31m             \u001b[0;32mraise\u001b[0m \u001b[0mException\u001b[0m\u001b[0;34m(\u001b[0m\u001b[0;34m'You must call the fit method before transforming the data'\u001b[0m\u001b[0;34m)\u001b[0m\u001b[0;34m\u001b[0m\u001b[0;34m\u001b[0m\u001b[0m\n\u001b[0m\u001b[1;32m     32\u001b[0m \u001b[0;34m\u001b[0m\u001b[0m\n\u001b[1;32m     33\u001b[0m         \u001b[0mdata_values\u001b[0m \u001b[0;34m=\u001b[0m \u001b[0mself\u001b[0m\u001b[0;34m.\u001b[0m\u001b[0mget_values\u001b[0m\u001b[0;34m(\u001b[0m\u001b[0mdata\u001b[0m\u001b[0;34m)\u001b[0m\u001b[0;34m\u001b[0m\u001b[0;34m\u001b[0m\u001b[0m\n",
      "\u001b[0;31mException\u001b[0m: You must call the fit method before transforming the data"
     ]
    }
   ],
   "source": [
    "# produce exception\n",
    "scaler2 = StdScaler()\n",
    "scaler2.transform(X)"
   ]
  },
  {
   "cell_type": "code",
   "execution_count": 99,
   "metadata": {},
   "outputs": [
    {
     "data": {
      "text/plain": [
       "array([[-1.22474487, -1.22474487, -1.06904497],\n",
       "       [ 0.        ,  0.        , -0.26726124],\n",
       "       [ 1.22474487,  1.22474487,  1.33630621]])"
      ]
     },
     "execution_count": 99,
     "metadata": {},
     "output_type": "execute_result"
    }
   ],
   "source": [
    "from sklearn.preprocessing import StandardScaler\n",
    "\n",
    "scale = StandardScaler()\n",
    "\n",
    "scale.fit_transform(X)"
   ]
  }
 ],
 "metadata": {
  "kernelspec": {
   "display_name": "Python 3",
   "language": "python",
   "name": "python3"
  },
  "language_info": {
   "codemirror_mode": {
    "name": "ipython",
    "version": 3
   },
   "file_extension": ".py",
   "mimetype": "text/x-python",
   "name": "python",
   "nbconvert_exporter": "python",
   "pygments_lexer": "ipython3",
   "version": "3.7.7"
  }
 },
 "nbformat": 4,
 "nbformat_minor": 4
}
