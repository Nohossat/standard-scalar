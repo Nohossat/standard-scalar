{
 "cells": [
  {
   "cell_type": "markdown",
   "metadata": {},
   "source": [
    "Créer une class StandardScaler2 avec comme méthode fit, transform, fit_transform et en attribut un dicitonnaire params_ qui contient la moyenne et l'écart_type de vos données. Les données en entrées sont uniquement de array numpy (pas des dataframes)\n",
    "me dire que vous avez terminé avant de faire le bonus.\n",
    "en bonus :\n",
    "- mettre une erreur si on essaye de transform sans avoir de fit\n",
    "- permettre au code de fonctionner, peut importe si l'entrée est une numpy array ou une dataframe"
   ]
  },
  {
   "cell_type": "code",
   "execution_count": 2,
   "metadata": {},
   "outputs": [],
   "source": [
    "import pandas as pd\n",
    "import numpy as np"
   ]
  },
  {
   "cell_type": "code",
   "execution_count": 4,
   "metadata": {},
   "outputs": [],
   "source": [
    "df = pd.read_csv('./vine.csv')\n",
    "data = df[['fixed acidity', 'volatile acidity', 'citric acid']]"
   ]
  },
  {
   "cell_type": "code",
   "execution_count": 5,
   "metadata": {},
   "outputs": [],
   "source": [
    "class StandardScaler1 :\n",
    "    def __init__(self):\n",
    "        # mean and std_dev are lists _ each index indicates the feature\n",
    "        self.params_ = { 'mean' : None, 'std_dev' : None}\n",
    "        \n",
    "    def fit(self, data):\n",
    "        # for each feature, we must calculate the mean and the std\n",
    "        if isinstance(data, pd.core.frame.DataFrame) : \n",
    "            data = data.values\n",
    "        \n",
    "        self.params_['mean'] = np.mean(data, 0)\n",
    "        self.params_['std_dev'] = np.std(data, 0)\n",
    "        \n",
    "    def z_score(self, a):\n",
    "        return (a - self.params_['mean']) / self.params_['std_dev']\n",
    "    \n",
    "    def transform(self, data):\n",
    "        # fit method must be applied before transformation\n",
    "        if np.array(self.params_['mean']).any() == None:\n",
    "            raise Exception('La méthode fit n\\'a pas été appliquée')\n",
    "            return False\n",
    "         \n",
    "        # if data is a pandas Dataframe, we have to get the values first\n",
    "        if isinstance(data, pd.core.frame.DataFrame) : \n",
    "            data = data.values\n",
    "           \n",
    "        # we proceed to the transformation of the data  \n",
    "        normalize_data = np.apply_along_axis(self.z_score, 1, data)\n",
    "        return normalize_data\n",
    "        \n",
    "    def fit_transform(self, data):\n",
    "        self.fit(data)\n",
    "        return self.transform(data)\n",
    "    \n",
    "    @property\n",
    "    def mean_(self):\n",
    "        return self.params_['mean']\n",
    "    \n",
    "    @property\n",
    "    def var_(self):\n",
    "        return self.params_['std_dev']"
   ]
  },
  {
   "cell_type": "code",
   "execution_count": 6,
   "metadata": {},
   "outputs": [
    {
     "ename": "Exception",
     "evalue": "La méthode fit n'a pas été appliquée",
     "output_type": "error",
     "traceback": [
      "\u001b[0;31m---------------------------------------------------------------------------\u001b[0m",
      "\u001b[0;31mException\u001b[0m                                 Traceback (most recent call last)",
      "\u001b[0;32m<ipython-input-6-6f5c0ee2572e>\u001b[0m in \u001b[0;36m<module>\u001b[0;34m\u001b[0m\n\u001b[1;32m      7\u001b[0m \u001b[0;31m# print(scaler.mean_)\u001b[0m\u001b[0;34m\u001b[0m\u001b[0;34m\u001b[0m\u001b[0;34m\u001b[0m\u001b[0m\n\u001b[1;32m      8\u001b[0m \u001b[0;31m# print(scaler.var_)\u001b[0m\u001b[0;34m\u001b[0m\u001b[0;34m\u001b[0m\u001b[0;34m\u001b[0m\u001b[0m\n\u001b[0;32m----> 9\u001b[0;31m \u001b[0mscaler\u001b[0m\u001b[0;34m.\u001b[0m\u001b[0mtransform\u001b[0m\u001b[0;34m(\u001b[0m\u001b[0mX\u001b[0m\u001b[0;34m)\u001b[0m\u001b[0;34m\u001b[0m\u001b[0;34m\u001b[0m\u001b[0m\n\u001b[0m",
      "\u001b[0;32m<ipython-input-5-f83f32e89ef6>\u001b[0m in \u001b[0;36mtransform\u001b[0;34m(self, data)\u001b[0m\n\u001b[1;32m     18\u001b[0m         \u001b[0;31m# fit method must be applied before transformation\u001b[0m\u001b[0;34m\u001b[0m\u001b[0;34m\u001b[0m\u001b[0;34m\u001b[0m\u001b[0m\n\u001b[1;32m     19\u001b[0m         \u001b[0;32mif\u001b[0m \u001b[0mnp\u001b[0m\u001b[0;34m.\u001b[0m\u001b[0marray\u001b[0m\u001b[0;34m(\u001b[0m\u001b[0mself\u001b[0m\u001b[0;34m.\u001b[0m\u001b[0mparams_\u001b[0m\u001b[0;34m[\u001b[0m\u001b[0;34m'mean'\u001b[0m\u001b[0;34m]\u001b[0m\u001b[0;34m)\u001b[0m\u001b[0;34m.\u001b[0m\u001b[0many\u001b[0m\u001b[0;34m(\u001b[0m\u001b[0;34m)\u001b[0m \u001b[0;34m==\u001b[0m \u001b[0;32mNone\u001b[0m\u001b[0;34m:\u001b[0m\u001b[0;34m\u001b[0m\u001b[0;34m\u001b[0m\u001b[0m\n\u001b[0;32m---> 20\u001b[0;31m             \u001b[0;32mraise\u001b[0m \u001b[0mException\u001b[0m\u001b[0;34m(\u001b[0m\u001b[0;34m'La méthode fit n\\'a pas été appliquée'\u001b[0m\u001b[0;34m)\u001b[0m\u001b[0;34m\u001b[0m\u001b[0;34m\u001b[0m\u001b[0m\n\u001b[0m\u001b[1;32m     21\u001b[0m             \u001b[0;32mreturn\u001b[0m \u001b[0;32mFalse\u001b[0m\u001b[0;34m\u001b[0m\u001b[0;34m\u001b[0m\u001b[0m\n\u001b[1;32m     22\u001b[0m \u001b[0;34m\u001b[0m\u001b[0m\n",
      "\u001b[0;31mException\u001b[0m: La méthode fit n'a pas été appliquée"
     ]
    }
   ],
   "source": [
    "scaler = StandardScaler1()\n",
    "\n",
    "X = np.array([[1, 2, 6, 4], [5, 6, 7, 8], [9, 6, 11, 23]])\n",
    "X\n",
    "\n",
    "# scaler.fit(X)\n",
    "# print(scaler.mean_)\n",
    "# print(scaler.var_)\n",
    "scaler.transform(X)"
   ]
  },
  {
   "cell_type": "code",
   "execution_count": 7,
   "metadata": {},
   "outputs": [
    {
     "data": {
      "text/plain": [
       "array([[-1.22474487, -1.41421356, -0.9258201 , -0.93741002],\n",
       "       [ 0.        ,  0.70710678, -0.46291005, -0.44832653],\n",
       "       [ 1.22474487,  0.70710678,  1.38873015,  1.38573655]])"
      ]
     },
     "execution_count": 7,
     "metadata": {},
     "output_type": "execute_result"
    }
   ],
   "source": [
    "# try with scikit learn\n",
    "from sklearn.preprocessing import StandardScaler\n",
    "\n",
    "scaler2 = StandardScaler()\n",
    "scaler2.fit_transform(X)"
   ]
  },
  {
   "cell_type": "code",
   "execution_count": 8,
   "metadata": {},
   "outputs": [
    {
     "data": {
      "text/plain": [
       "array([[-0.52835961,  0.96187667, -1.39147228],\n",
       "       [-0.29854743,  1.96744245, -1.39147228],\n",
       "       [-0.29854743,  1.29706527, -1.18607043],\n",
       "       ...,\n",
       "       [-1.1603431 , -0.09955388, -0.72391627],\n",
       "       [-1.39015528,  0.65462046, -0.77526673],\n",
       "       [-1.33270223, -1.21684919,  1.02199944]])"
      ]
     },
     "execution_count": 8,
     "metadata": {},
     "output_type": "execute_result"
    }
   ],
   "source": [
    "scaler3 = StandardScaler1()\n",
    "scaler3.fit_transform(data)"
   ]
  },
  {
   "cell_type": "code",
   "execution_count": 9,
   "metadata": {},
   "outputs": [
    {
     "data": {
      "text/plain": [
       "array([[-0.52835961,  0.96187667, -1.39147228],\n",
       "       [-0.29854743,  1.96744245, -1.39147228],\n",
       "       [-0.29854743,  1.29706527, -1.18607043],\n",
       "       ...,\n",
       "       [-1.1603431 , -0.09955388, -0.72391627],\n",
       "       [-1.39015528,  0.65462046, -0.77526673],\n",
       "       [-1.33270223, -1.21684919,  1.02199944]])"
      ]
     },
     "execution_count": 9,
     "metadata": {},
     "output_type": "execute_result"
    }
   ],
   "source": [
    "# try with scikit learn\n",
    "from sklearn.preprocessing import StandardScaler\n",
    "\n",
    "scaler2 = StandardScaler()\n",
    "scaler2.fit_transform(data)"
   ]
  },
  {
   "cell_type": "code",
   "execution_count": 10,
   "metadata": {},
   "outputs": [
    {
     "data": {
      "text/plain": [
       "array([[-1.22474487, -1.41421356, -0.9258201 , -0.93741002],\n",
       "       [ 0.        ,  0.70710678, -0.46291005, -0.44832653],\n",
       "       [ 1.22474487,  0.70710678,  1.38873015,  1.38573655]])"
      ]
     },
     "execution_count": 10,
     "metadata": {},
     "output_type": "execute_result"
    }
   ],
   "source": [
    "# try with scikit learn\n",
    "from sklearn.preprocessing import StandardScaler\n",
    "\n",
    "scaler2 = StandardScaler()\n",
    "scaler2.fit_transform(X)"
   ]
  }
 ],
 "metadata": {
  "kernelspec": {
   "display_name": "Python 3",
   "language": "python",
   "name": "python3"
  },
  "language_info": {
   "codemirror_mode": {
    "name": "ipython",
    "version": 3
   },
   "file_extension": ".py",
   "mimetype": "text/x-python",
   "name": "python",
   "nbconvert_exporter": "python",
   "pygments_lexer": "ipython3",
   "version": "3.7.7"
  }
 },
 "nbformat": 4,
 "nbformat_minor": 4
}
